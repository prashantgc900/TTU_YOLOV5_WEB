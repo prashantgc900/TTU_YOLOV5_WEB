{
 "cells": [
  {
   "cell_type": "code",
   "execution_count": 1,
   "id": "backed-asthma",
   "metadata": {},
   "outputs": [],
   "source": [
    "import os\n",
    "import zipfile"
   ]
  },
  {
   "cell_type": "code",
   "execution_count": 12,
   "id": "foster-tooth",
   "metadata": {},
   "outputs": [
    {
     "data": {
      "text/plain": [
       "['Image1.txt',\n",
       " 'Image10.txt',\n",
       " 'Image11.txt',\n",
       " 'Image12.txt',\n",
       " 'Image13.txt',\n",
       " 'Image14.txt',\n",
       " 'Image15.txt',\n",
       " 'Image16.txt',\n",
       " 'Image17.txt',\n",
       " 'Image18.txt',\n",
       " 'Image19.txt',\n",
       " 'Image2.txt',\n",
       " 'Image20.txt',\n",
       " 'Image21.txt',\n",
       " 'Image22.txt',\n",
       " 'Image23.txt',\n",
       " 'Image24.txt',\n",
       " 'Image25.txt',\n",
       " 'Image26.txt',\n",
       " 'Image27.txt',\n",
       " 'Image28.txt',\n",
       " 'Image29.txt',\n",
       " 'Image3.txt',\n",
       " 'Image30.txt',\n",
       " 'Image31.txt',\n",
       " 'Image32.txt',\n",
       " 'Image33.txt',\n",
       " 'Image34.txt',\n",
       " 'Image35.txt',\n",
       " 'Image36.txt',\n",
       " 'Image37.txt',\n",
       " 'Image38.txt',\n",
       " 'Image39.txt',\n",
       " 'Image4.txt',\n",
       " 'Image40.txt',\n",
       " 'Image41.txt',\n",
       " 'Image42.txt',\n",
       " 'Image43.txt',\n",
       " 'Image44.txt',\n",
       " 'Image45.txt',\n",
       " 'Image46.txt',\n",
       " 'Image47.txt',\n",
       " 'Image48.txt',\n",
       " 'Image49.txt',\n",
       " 'Image5.txt',\n",
       " 'Image50.txt',\n",
       " 'Image51.txt',\n",
       " 'Image52.txt',\n",
       " 'Image53.txt',\n",
       " 'Image54.txt',\n",
       " 'Image55.txt',\n",
       " 'Image56.txt',\n",
       " 'Image57.txt',\n",
       " 'Image58.txt',\n",
       " 'Image59.txt',\n",
       " 'Image6.txt',\n",
       " 'Image60.txt',\n",
       " 'Image61.txt',\n",
       " 'Image62.txt',\n",
       " 'Image63.txt',\n",
       " 'Image64.txt',\n",
       " 'Image65.txt',\n",
       " 'Image66.txt',\n",
       " 'Image67.txt',\n",
       " 'Image68.txt',\n",
       " 'Image69.txt',\n",
       " 'Image7.txt',\n",
       " 'Image70.txt',\n",
       " 'Image71.txt',\n",
       " 'Image72.txt',\n",
       " 'Image73.txt',\n",
       " 'Image74.txt',\n",
       " 'Image75.txt',\n",
       " 'Image76.txt',\n",
       " 'Image77.txt',\n",
       " 'Image78.txt',\n",
       " 'Image79.txt',\n",
       " 'Image8.txt',\n",
       " 'Image80.txt',\n",
       " 'Image81.txt',\n",
       " 'Image82.txt',\n",
       " 'Image9.txt']"
      ]
     },
     "execution_count": 12,
     "metadata": {},
     "output_type": "execute_result"
    }
   ],
   "source": [
    "files=os.listdir('static/Jul-20-2022-18-02-37/labels/')\n",
    "files.sort()\n",
    "files"
   ]
  },
  {
   "cell_type": "code",
   "execution_count": 13,
   "id": "growing-kennedy",
   "metadata": {},
   "outputs": [],
   "source": [
    "examplezip=zipfile.ZipFile('static/Jul-20-2022-18-02-37/labels/example.zip','w')"
   ]
  },
  {
   "cell_type": "code",
   "execution_count": 14,
   "id": "accomplished-paper",
   "metadata": {},
   "outputs": [],
   "source": [
    "for filename in files:\n",
    "    examplezip.write('static/Jul-20-2022-18-02-37/labels/'+filename,compress_type=zipfile.ZIP_DEFLATED)"
   ]
  },
  {
   "cell_type": "code",
   "execution_count": 15,
   "id": "alert-uncle",
   "metadata": {},
   "outputs": [],
   "source": [
    "examplezip.close()"
   ]
  },
  {
   "cell_type": "code",
   "execution_count": null,
   "id": "flush-lambda",
   "metadata": {},
   "outputs": [],
   "source": []
  }
 ],
 "metadata": {
  "kernelspec": {
   "display_name": "Python 3",
   "language": "python",
   "name": "python3"
  },
  "language_info": {
   "codemirror_mode": {
    "name": "ipython",
    "version": 3
   },
   "file_extension": ".py",
   "mimetype": "text/x-python",
   "name": "python",
   "nbconvert_exporter": "python",
   "pygments_lexer": "ipython3",
   "version": "3.8.13"
  }
 },
 "nbformat": 4,
 "nbformat_minor": 5
}
